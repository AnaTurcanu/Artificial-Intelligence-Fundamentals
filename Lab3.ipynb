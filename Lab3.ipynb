{
  "nbformat": 4,
  "nbformat_minor": 0,
  "metadata": {
    "colab": {
      "name": "Lab3",
      "provenance": [],
      "mount_file_id": "1Q5SmTwgNYFdFpq5gsxUQxElSIg5WoPR2",
      "authorship_tag": "ABX9TyOMqJEWdGmeRgWuWbvjQ1xR",
      "include_colab_link": true
    },
    "kernelspec": {
      "name": "python3",
      "display_name": "Python 3"
    }
  },
  "cells": [
    {
      "cell_type": "markdown",
      "metadata": {
        "id": "view-in-github",
        "colab_type": "text"
      },
      "source": [
        "<a href=\"https://colab.research.google.com/github/AnaTurcanu/Artificial-Intelligence-Fundamentals/blob/master/Lab3.ipynb\" target=\"_parent\"><img src=\"https://colab.research.google.com/assets/colab-badge.svg\" alt=\"Open In Colab\"/></a>"
      ]
    },
    {
      "cell_type": "code",
      "metadata": {
        "id": "38Wm9z33iNtM"
      },
      "source": [
        "import keras\r\n",
        "import numpy as np\r\n",
        "import pandas as pd"
      ],
      "execution_count": 1,
      "outputs": []
    },
    {
      "cell_type": "code",
      "metadata": {
        "colab": {
          "base_uri": "https://localhost:8080/",
          "height": 204
        },
        "id": "fgIHngFCj6I0",
        "outputId": "3c690160-a118-48e0-91e9-df8eddf838a7"
      },
      "source": [
        "df=pd.read_csv('/content/drive/MyDrive/HousingPrices.csv')\r\n",
        "df.head()"
      ],
      "execution_count": 43,
      "outputs": [
        {
          "output_type": "execute_result",
          "data": {
            "text/html": [
              "<div>\n",
              "<style scoped>\n",
              "    .dataframe tbody tr th:only-of-type {\n",
              "        vertical-align: middle;\n",
              "    }\n",
              "\n",
              "    .dataframe tbody tr th {\n",
              "        vertical-align: top;\n",
              "    }\n",
              "\n",
              "    .dataframe thead th {\n",
              "        text-align: right;\n",
              "    }\n",
              "</style>\n",
              "<table border=\"1\" class=\"dataframe\">\n",
              "  <thead>\n",
              "    <tr style=\"text-align: right;\">\n",
              "      <th></th>\n",
              "      <th>ComplexAge</th>\n",
              "      <th>ApartmentsNr</th>\n",
              "      <th>ComplexInhabitants</th>\n",
              "      <th>TotalBedrooms</th>\n",
              "      <th>TotalRooms</th>\n",
              "      <th>medianComplexValue</th>\n",
              "    </tr>\n",
              "  </thead>\n",
              "  <tbody>\n",
              "    <tr>\n",
              "      <th>0</th>\n",
              "      <td>2003</td>\n",
              "      <td>2</td>\n",
              "      <td>6</td>\n",
              "      <td>3</td>\n",
              "      <td>8</td>\n",
              "      <td>208500</td>\n",
              "    </tr>\n",
              "    <tr>\n",
              "      <th>1</th>\n",
              "      <td>1976</td>\n",
              "      <td>2</td>\n",
              "      <td>8</td>\n",
              "      <td>3</td>\n",
              "      <td>6</td>\n",
              "      <td>181500</td>\n",
              "    </tr>\n",
              "    <tr>\n",
              "      <th>2</th>\n",
              "      <td>2001</td>\n",
              "      <td>2</td>\n",
              "      <td>6</td>\n",
              "      <td>3</td>\n",
              "      <td>6</td>\n",
              "      <td>223500</td>\n",
              "    </tr>\n",
              "    <tr>\n",
              "      <th>3</th>\n",
              "      <td>1915</td>\n",
              "      <td>1</td>\n",
              "      <td>8</td>\n",
              "      <td>3</td>\n",
              "      <td>7</td>\n",
              "      <td>140000</td>\n",
              "    </tr>\n",
              "    <tr>\n",
              "      <th>4</th>\n",
              "      <td>2000</td>\n",
              "      <td>2</td>\n",
              "      <td>6</td>\n",
              "      <td>4</td>\n",
              "      <td>9</td>\n",
              "      <td>250000</td>\n",
              "    </tr>\n",
              "  </tbody>\n",
              "</table>\n",
              "</div>"
            ],
            "text/plain": [
              "   ComplexAge  ApartmentsNr  ...  TotalRooms  medianComplexValue\n",
              "0        2003             2  ...           8              208500\n",
              "1        1976             2  ...           6              181500\n",
              "2        2001             2  ...           6              223500\n",
              "3        1915             1  ...           7              140000\n",
              "4        2000             2  ...           9              250000\n",
              "\n",
              "[5 rows x 6 columns]"
            ]
          },
          "metadata": {
            "tags": []
          },
          "execution_count": 43
        }
      ]
    },
    {
      "cell_type": "code",
      "metadata": {
        "id": "Zz28R6X8kFsn"
      },
      "source": [
        "X = df.drop(columns=['medianComplexValue'])\r\n",
        "Y = df[['medianComplexValue']]"
      ],
      "execution_count": 44,
      "outputs": []
    },
    {
      "cell_type": "code",
      "metadata": {
        "id": "OWXOq7x5kq_G"
      },
      "source": [
        "model=keras.Sequential()\r\n",
        "model.add(keras.layers.Dense(5, activation='relu', input_shape=(5,))) #input layer. relu-rectified liniar units(takes allvalues and normalizes them on a scale from 0 to 1)\r\n",
        "model.add(keras.layers.Dense(5, activation='relu'))\r\n",
        "model.add(keras.layers.Dense(1))#output layer. we output 1 value - the SalePrice\r\n",
        "\r\n",
        "model.compile(optimizer='adam', loss='mean_squared_error') #minimize the loss"
      ],
      "execution_count": 112,
      "outputs": []
    },
    {
      "cell_type": "code",
      "metadata": {
        "colab": {
          "base_uri": "https://localhost:8080/"
        },
        "id": "brIXccxLmzbs",
        "outputId": "8a1257ff-f27f-4f5f-c048-f993217f3d14"
      },
      "source": [
        "model.fit(X, Y, epochs=30, callbacks=[keras.callbacks.EarlyStopping(patience=5)])\r\n",
        "#callbacks prevent overfitting. once the model gets to a point where it doesn't get much better, is gonna stop, even if there are epochs left"
      ],
      "execution_count": 131,
      "outputs": [
        {
          "output_type": "stream",
          "text": [
            "Epoch 1/30\n",
            "3/3 [==============================] - 0s 2ms/step - loss: 5599828480.0000\n",
            "WARNING:tensorflow:Early stopping conditioned on metric `val_loss` which is not available. Available metrics are: loss\n",
            "Epoch 2/30\n",
            "3/3 [==============================] - 0s 36ms/step - loss: 5599886336.0000\n",
            "WARNING:tensorflow:Early stopping conditioned on metric `val_loss` which is not available. Available metrics are: loss\n",
            "Epoch 3/30\n",
            "3/3 [==============================] - 0s 5ms/step - loss: 5599661056.0000\n",
            "WARNING:tensorflow:Early stopping conditioned on metric `val_loss` which is not available. Available metrics are: loss\n",
            "Epoch 4/30\n",
            "3/3 [==============================] - 0s 3ms/step - loss: 5599965696.0000\n",
            "WARNING:tensorflow:Early stopping conditioned on metric `val_loss` which is not available. Available metrics are: loss\n",
            "Epoch 5/30\n",
            "3/3 [==============================] - 0s 3ms/step - loss: 5599574528.0000\n",
            "WARNING:tensorflow:Early stopping conditioned on metric `val_loss` which is not available. Available metrics are: loss\n",
            "Epoch 6/30\n",
            "3/3 [==============================] - 0s 3ms/step - loss: 5599992320.0000\n",
            "WARNING:tensorflow:Early stopping conditioned on metric `val_loss` which is not available. Available metrics are: loss\n",
            "Epoch 7/30\n",
            "3/3 [==============================] - 0s 3ms/step - loss: 5599704064.0000\n",
            "WARNING:tensorflow:Early stopping conditioned on metric `val_loss` which is not available. Available metrics are: loss\n",
            "Epoch 8/30\n",
            "3/3 [==============================] - 0s 3ms/step - loss: 5599564800.0000\n",
            "WARNING:tensorflow:Early stopping conditioned on metric `val_loss` which is not available. Available metrics are: loss\n",
            "Epoch 9/30\n",
            "3/3 [==============================] - 0s 3ms/step - loss: 5599577600.0000\n",
            "WARNING:tensorflow:Early stopping conditioned on metric `val_loss` which is not available. Available metrics are: loss\n",
            "Epoch 10/30\n",
            "3/3 [==============================] - 0s 3ms/step - loss: 5599324160.0000\n",
            "WARNING:tensorflow:Early stopping conditioned on metric `val_loss` which is not available. Available metrics are: loss\n",
            "Epoch 11/30\n",
            "3/3 [==============================] - 0s 3ms/step - loss: 5599686656.0000\n",
            "WARNING:tensorflow:Early stopping conditioned on metric `val_loss` which is not available. Available metrics are: loss\n",
            "Epoch 12/30\n",
            "3/3 [==============================] - 0s 3ms/step - loss: 5599392256.0000\n",
            "WARNING:tensorflow:Early stopping conditioned on metric `val_loss` which is not available. Available metrics are: loss\n",
            "Epoch 13/30\n",
            "3/3 [==============================] - 0s 4ms/step - loss: 5599483392.0000\n",
            "WARNING:tensorflow:Early stopping conditioned on metric `val_loss` which is not available. Available metrics are: loss\n",
            "Epoch 14/30\n",
            "3/3 [==============================] - 0s 4ms/step - loss: 5599545856.0000\n",
            "WARNING:tensorflow:Early stopping conditioned on metric `val_loss` which is not available. Available metrics are: loss\n",
            "Epoch 15/30\n",
            "3/3 [==============================] - 0s 4ms/step - loss: 5599477248.0000\n",
            "WARNING:tensorflow:Early stopping conditioned on metric `val_loss` which is not available. Available metrics are: loss\n",
            "Epoch 16/30\n",
            "3/3 [==============================] - 0s 5ms/step - loss: 5599614464.0000\n",
            "WARNING:tensorflow:Early stopping conditioned on metric `val_loss` which is not available. Available metrics are: loss\n",
            "Epoch 17/30\n",
            "3/3 [==============================] - 0s 4ms/step - loss: 5599477760.0000\n",
            "WARNING:tensorflow:Early stopping conditioned on metric `val_loss` which is not available. Available metrics are: loss\n",
            "Epoch 18/30\n",
            "3/3 [==============================] - 0s 3ms/step - loss: 5599413248.0000\n",
            "WARNING:tensorflow:Early stopping conditioned on metric `val_loss` which is not available. Available metrics are: loss\n",
            "Epoch 19/30\n",
            "3/3 [==============================] - 0s 4ms/step - loss: 5599323136.0000\n",
            "WARNING:tensorflow:Early stopping conditioned on metric `val_loss` which is not available. Available metrics are: loss\n",
            "Epoch 20/30\n",
            "3/3 [==============================] - 0s 3ms/step - loss: 5599329792.0000\n",
            "WARNING:tensorflow:Early stopping conditioned on metric `val_loss` which is not available. Available metrics are: loss\n",
            "Epoch 21/30\n",
            "3/3 [==============================] - 0s 4ms/step - loss: 5599364096.0000\n",
            "WARNING:tensorflow:Early stopping conditioned on metric `val_loss` which is not available. Available metrics are: loss\n",
            "Epoch 22/30\n",
            "3/3 [==============================] - 0s 4ms/step - loss: 5599369728.0000\n",
            "WARNING:tensorflow:Early stopping conditioned on metric `val_loss` which is not available. Available metrics are: loss\n",
            "Epoch 23/30\n",
            "3/3 [==============================] - 0s 4ms/step - loss: 5599879680.0000\n",
            "WARNING:tensorflow:Early stopping conditioned on metric `val_loss` which is not available. Available metrics are: loss\n",
            "Epoch 24/30\n",
            "3/3 [==============================] - 0s 4ms/step - loss: 5599399424.0000\n",
            "WARNING:tensorflow:Early stopping conditioned on metric `val_loss` which is not available. Available metrics are: loss\n",
            "Epoch 25/30\n",
            "3/3 [==============================] - 0s 3ms/step - loss: 5599213056.0000\n",
            "WARNING:tensorflow:Early stopping conditioned on metric `val_loss` which is not available. Available metrics are: loss\n",
            "Epoch 26/30\n",
            "3/3 [==============================] - 0s 4ms/step - loss: 5599342080.0000\n",
            "WARNING:tensorflow:Early stopping conditioned on metric `val_loss` which is not available. Available metrics are: loss\n",
            "Epoch 27/30\n",
            "3/3 [==============================] - 0s 3ms/step - loss: 5599645696.0000\n",
            "WARNING:tensorflow:Early stopping conditioned on metric `val_loss` which is not available. Available metrics are: loss\n",
            "Epoch 28/30\n",
            "3/3 [==============================] - 0s 3ms/step - loss: 5599497728.0000\n",
            "WARNING:tensorflow:Early stopping conditioned on metric `val_loss` which is not available. Available metrics are: loss\n",
            "Epoch 29/30\n",
            "3/3 [==============================] - 0s 3ms/step - loss: 5599376896.0000\n",
            "WARNING:tensorflow:Early stopping conditioned on metric `val_loss` which is not available. Available metrics are: loss\n",
            "Epoch 30/30\n",
            "3/3 [==============================] - 0s 4ms/step - loss: 5599245312.0000\n",
            "WARNING:tensorflow:Early stopping conditioned on metric `val_loss` which is not available. Available metrics are: loss\n"
          ],
          "name": "stdout"
        },
        {
          "output_type": "execute_result",
          "data": {
            "text/plain": [
              "<tensorflow.python.keras.callbacks.History at 0x7f3d17a4bb90>"
            ]
          },
          "metadata": {
            "tags": []
          },
          "execution_count": 131
        }
      ]
    },
    {
      "cell_type": "code",
      "metadata": {
        "colab": {
          "base_uri": "https://localhost:8080/"
        },
        "id": "nYg5Jobin6Ms",
        "outputId": "ae693194-7e6f-4d6e-f21a-4912f96dff18"
      },
      "source": [
        "test_data = np.array([1915,\t1,\t8,\t3,\t7])\r\n",
        "print(model.predict(test_data.reshape(1,5), batch_size=1))"
      ],
      "execution_count": 132,
      "outputs": [
        {
          "output_type": "stream",
          "text": [
            "[[176682.56]]\n"
          ],
          "name": "stdout"
        }
      ]
    },
    {
      "cell_type": "code",
      "metadata": {
        "id": "X7MlkeX9pLl9"
      },
      "source": [
        "model.save('housing_model.h5')"
      ],
      "execution_count": 133,
      "outputs": []
    },
    {
      "cell_type": "code",
      "metadata": {
        "id": "sIK7c7GSrpX6"
      },
      "source": [
        "old_model=keras.models.load_model('housing_model.h5')"
      ],
      "execution_count": 134,
      "outputs": []
    },
    {
      "cell_type": "code",
      "metadata": {
        "colab": {
          "base_uri": "https://localhost:8080/"
        },
        "id": "JrqFVHuotLuR",
        "outputId": "92cc03fa-d736-4de5-f621-213d51a89df2"
      },
      "source": [
        "test_data = np.array([1976,\t2,\t8,\t3,\t6])\r\n",
        "print(model.predict(test_data.reshape(1,5), batch_size=1))"
      ],
      "execution_count": 135,
      "outputs": [
        {
          "output_type": "stream",
          "text": [
            "[[182290.3]]\n"
          ],
          "name": "stdout"
        }
      ]
    },
    {
      "cell_type": "code",
      "metadata": {
        "id": "LeIbG354tN4v"
      },
      "source": [
        ""
      ],
      "execution_count": null,
      "outputs": []
    }
  ]
}